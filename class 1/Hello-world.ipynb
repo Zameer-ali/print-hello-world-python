{
 "cells": [
  {
   "cell_type": "markdown",
   "id": "d3ce1099-d083-4f12-be50-96e5b53dd8ff",
   "metadata": {},
   "source": [
    "# Hello world"
   ]
  },
  {
   "cell_type": "markdown",
   "id": "5db0a503-7c54-425f-b2ac-6637befd0bf8",
   "metadata": {},
   "source": [
    "## Hello world"
   ]
  },
  {
   "cell_type": "markdown",
   "id": "87bf9bdd-ba00-44a8-b466-f5414dcc9944",
   "metadata": {},
   "source": [
    "### Hello world"
   ]
  },
  {
   "cell_type": "markdown",
   "id": "e2f9d389-8028-4430-9180-db6e231cbf6e",
   "metadata": {},
   "source": [
    "#### Hello world"
   ]
  },
  {
   "cell_type": "markdown",
   "id": "c2555678-87bc-4c5a-94ea-1a1bf6747bd1",
   "metadata": {},
   "source": [
    "##### Hello world"
   ]
  },
  {
   "cell_type": "markdown",
   "id": "6aa36ab3-650c-4d3c-88c4-6e7bbc42bc3a",
   "metadata": {},
   "source": [
    "###### Hello world"
   ]
  }
 ],
 "metadata": {
  "kernelspec": {
   "display_name": "Python 3 (ipykernel)",
   "language": "python",
   "name": "python3"
  },
  "language_info": {
   "codemirror_mode": {
    "name": "ipython",
    "version": 3
   },
   "file_extension": ".py",
   "mimetype": "text/x-python",
   "name": "python",
   "nbconvert_exporter": "python",
   "pygments_lexer": "ipython3",
   "version": "3.9.13"
  }
 },
 "nbformat": 4,
 "nbformat_minor": 5
}
